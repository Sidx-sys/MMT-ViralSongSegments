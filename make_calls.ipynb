{
 "cells": [
  {
   "cell_type": "code",
   "execution_count": 22,
   "metadata": {},
   "outputs": [],
   "source": [
    "import requests\n",
    "import pprint"
   ]
  },
  {
   "cell_type": "code",
   "execution_count": 23,
   "metadata": {},
   "outputs": [],
   "source": [
    "pp = pprint.PrettyPrinter(indent=2)"
   ]
  },
  {
   "cell_type": "code",
   "execution_count": 24,
   "metadata": {},
   "outputs": [
    {
     "data": {
      "text/plain": [
       "[\"Boy's a Liar\",\n",
       " \"That's what I want\",\n",
       " 'Toosie Slide',\n",
       " 'Savage',\n",
       " 'abdefu',\n",
       " 'Thriller',\n",
       " 'Say So',\n",
       " 'Mi Gente',\n",
       " \"U can't touch this\",\n",
       " 'Stay']"
      ]
     },
     "execution_count": 24,
     "metadata": {},
     "output_type": "execute_result"
    }
   ],
   "source": [
    "song_list = None\n",
    "with open(\"data/songs.txt\") as f:\n",
    "    song_list = [x.rstrip() for x in f.readlines()]\n",
    "song_list[:10]"
   ]
  },
  {
   "cell_type": "code",
   "execution_count": 25,
   "metadata": {},
   "outputs": [],
   "source": [
    "def return_song_dump(song_name):\n",
    "    data = {'name': song_name}\n",
    "    response = requests.post('http://localhost:3000/search', json=data)\n",
    "\n",
    "    if response.status_code == 200:\n",
    "        data = response.json()\n",
    "        return data\n",
    "    else:\n",
    "        print('Request failed with status code:', response.status_code)\n",
    "        return -1"
   ]
  },
  {
   "cell_type": "code",
   "execution_count": 33,
   "metadata": {},
   "outputs": [],
   "source": [
    "def extract_info(dump):\n",
    "    song_info = {}\n",
    "    # pp.pprint(dump)\n",
    "    song_info[\"artists\"] = \", \".join([x['name'] for x in dump['artists']])\n",
    "    song_info[\"song_id\"] = dump['id']\n",
    "    song_info[\"popularity\"] = dump['popularity']\n",
    "    song_info[\"spotify_link\"] = dump['external_urls']['spotify']\n",
    "    song_info[\"release_date\"] = dump['album']['release_date']\n",
    "    \n",
    "    return song_info"
   ]
  },
  {
   "cell_type": "code",
   "execution_count": 34,
   "metadata": {},
   "outputs": [],
   "source": [
    "song_data = {}\n",
    "\n",
    "for idx, song_name in enumerate(song_list):\n",
    "    dump = return_song_dump(song_name)\n",
    "    song_data[idx] = extract_info(dump[0])\n",
    "    song_data[idx]['name'] = song_name"
   ]
  },
  {
   "cell_type": "code",
   "execution_count": 35,
   "metadata": {},
   "outputs": [],
   "source": [
    "def extract_song_features(song_id):\n",
    "    params = {'id': song_id}\n",
    "    response = requests.get('http://localhost:3000/features', params=params)\n",
    "\n",
    "    if response.status_code == 200:\n",
    "        data = response.json()\n",
    "        return data\n",
    "    else:\n",
    "        print('Request failed with status code:', response.status_code)\n",
    "        return -1"
   ]
  },
  {
   "cell_type": "code",
   "execution_count": 36,
   "metadata": {},
   "outputs": [
    {
     "data": {
      "text/plain": [
       "{'artists': 'PinkPantheress, Ice Spice',\n",
       " 'song_id': '6AQbmUe0Qwf5PZnt4HmTXv',\n",
       " 'popularity': 98,\n",
       " 'spotify_link': 'https://open.spotify.com/track/6AQbmUe0Qwf5PZnt4HmTXv',\n",
       " 'release_date': '2023-02-03',\n",
       " 'name': \"Boy's a Liar\"}"
      ]
     },
     "execution_count": 36,
     "metadata": {},
     "output_type": "execute_result"
    }
   ],
   "source": [
    "song_data[0]"
   ]
  },
  {
   "cell_type": "code",
   "execution_count": 40,
   "metadata": {},
   "outputs": [
    {
     "name": "stdout",
     "output_type": "stream",
     "text": [
      "Request failed with status code: 500\n",
      "{'artists': 'Naturelle', 'song_id': '5N8KsYJ8IEMQVw33JvytW8', 'popularity': 85, 'spotify_link': 'https://open.spotify.com/track/5N8KsYJ8IEMQVw33JvytW8', 'release_date': '2022-02-08', 'name': 'Falling'}\n"
     ]
    }
   ],
   "source": [
    "for idx, song in song_data.items():\n",
    "    features = extract_song_features(song['song_id'])\n",
    "    try:\n",
    "        for k, v in features.items():\n",
    "            if k not in song:\n",
    "                song[k] = v\n",
    "    except AttributeError:\n",
    "        print(song)"
   ]
  },
  {
   "cell_type": "code",
   "execution_count": 41,
   "metadata": {},
   "outputs": [
    {
     "data": {
      "text/plain": [
       "{'artists': 'PinkPantheress, Ice Spice',\n",
       " 'song_id': '6AQbmUe0Qwf5PZnt4HmTXv',\n",
       " 'popularity': 98,\n",
       " 'spotify_link': 'https://open.spotify.com/track/6AQbmUe0Qwf5PZnt4HmTXv',\n",
       " 'release_date': '2023-02-03',\n",
       " 'name': \"Boy's a Liar\",\n",
       " 'danceability': 0.696,\n",
       " 'energy': 0.809,\n",
       " 'key': 5,\n",
       " 'loudness': -8.254,\n",
       " 'mode': 1,\n",
       " 'speechiness': 0.05,\n",
       " 'acousticness': 0.252,\n",
       " 'instrumentalness': 0.000128,\n",
       " 'liveness': 0.248,\n",
       " 'valence': 0.857,\n",
       " 'tempo': 132.962,\n",
       " 'type': 'audio_features',\n",
       " 'id': '6AQbmUe0Qwf5PZnt4HmTXv',\n",
       " 'uri': 'spotify:track:6AQbmUe0Qwf5PZnt4HmTXv',\n",
       " 'track_href': 'https://api.spotify.com/v1/tracks/6AQbmUe0Qwf5PZnt4HmTXv',\n",
       " 'analysis_url': 'https://api.spotify.com/v1/audio-analysis/6AQbmUe0Qwf5PZnt4HmTXv',\n",
       " 'duration_ms': 131013,\n",
       " 'time_signature': 4}"
      ]
     },
     "execution_count": 41,
     "metadata": {},
     "output_type": "execute_result"
    }
   ],
   "source": [
    "song_data[0]"
   ]
  },
  {
   "cell_type": "code",
   "execution_count": 42,
   "metadata": {},
   "outputs": [],
   "source": [
    "import json"
   ]
  },
  {
   "cell_type": "code",
   "execution_count": 43,
   "metadata": {},
   "outputs": [],
   "source": [
    "with open('data/dance_data.json', 'w') as f:\n",
    "    json.dump(song_data, f, indent=2)"
   ]
  },
  {
   "cell_type": "code",
   "execution_count": 51,
   "metadata": {},
   "outputs": [],
   "source": [
    "with open('data/dance_data.json') as f:\n",
    "    songs_data = json.load(f)"
   ]
  },
  {
   "cell_type": "code",
   "execution_count": 52,
   "metadata": {},
   "outputs": [],
   "source": [
    "key_scale = [\"C\", \"C#\", \"D\", \"D#\", \"E\", \"F\", \"F#\", \"G\", \"G#\", \"A\", \"A#\", \"B\"]"
   ]
  },
  {
   "cell_type": "code",
   "execution_count": 53,
   "metadata": {},
   "outputs": [],
   "source": [
    "def process_song_data(data):\n",
    "    data['mode'] = \"Major\" if data['mode'] == 1 else \"Minor\"\n",
    "    data['key'] = key_scale[int(data['key'])]\n",
    "    data['duration'] = data['duration_ms']/1000/60\n",
    "    data.pop('duration_ms')"
   ]
  },
  {
   "cell_type": "code",
   "execution_count": 54,
   "metadata": {},
   "outputs": [
    {
     "name": "stdout",
     "output_type": "stream",
     "text": [
      "{'artists': 'Naturelle', 'song_id': '5N8KsYJ8IEMQVw33JvytW8', 'popularity': 85, 'spotify_link': 'https://open.spotify.com/track/5N8KsYJ8IEMQVw33JvytW8', 'release_date': '2022-02-08', 'name': 'Falling'}\n"
     ]
    }
   ],
   "source": [
    "for key, data in songs_data.items():\n",
    "    try:\n",
    "        process_song_data(data)\n",
    "    except KeyError:\n",
    "        print(data)"
   ]
  },
  {
   "cell_type": "code",
   "execution_count": 55,
   "metadata": {},
   "outputs": [],
   "source": [
    "with open('data/dance_data_processed.json', 'w') as f:\n",
    "    json.dump(songs_data, f, indent=2)"
   ]
  }
 ],
 "metadata": {
  "kernelspec": {
   "display_name": "base",
   "language": "python",
   "name": "python3"
  },
  "language_info": {
   "codemirror_mode": {
    "name": "ipython",
    "version": 3
   },
   "file_extension": ".py",
   "mimetype": "text/x-python",
   "name": "python",
   "nbconvert_exporter": "python",
   "pygments_lexer": "ipython3",
   "version": "3.9.12"
  },
  "orig_nbformat": 4
 },
 "nbformat": 4,
 "nbformat_minor": 2
}
