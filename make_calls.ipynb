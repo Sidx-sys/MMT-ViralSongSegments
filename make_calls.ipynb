{
 "cells": [
  {
   "cell_type": "code",
   "execution_count": 12,
   "metadata": {},
   "outputs": [],
   "source": [
    "import requests\n",
    "import pprint\n",
    "\n",
    "song_list = [\"Boy's a Liar\", \"That's what I want\", \"Toosie Slide\", \"Savage\", \"abdefu\", \"Thriller\", \"Say So\", \"Mi Gente\", \"U can't touch this\", \"Stay\", \"Gimme More\", \"Need To Know\", \"In the Bible\", \"Body\", \"Macarena\", \"About Damn Time\", \"Up\", \"Hips Don't Lie\", \"Peaches\", \"Dance Monkey\", \"Blinding Lights\", \"Call Me By Your Name\", \"Industry Baby\", \"Jiggle Jiggle\", \"Savage Love\"]"
   ]
  },
  {
   "cell_type": "code",
   "execution_count": 15,
   "metadata": {},
   "outputs": [],
   "source": [
    "pp = pprint.PrettyPrinter(indent=2)"
   ]
  },
  {
   "cell_type": "code",
   "execution_count": 6,
   "metadata": {},
   "outputs": [],
   "source": [
    "def return_song_dump(song_name):\n",
    "    data = {'name': song_name}\n",
    "    response = requests.post('http://localhost:3000/search', json=data)\n",
    "\n",
    "    if response.status_code == 200:\n",
    "        data = response.json()\n",
    "        return data\n",
    "    else:\n",
    "        print('Request failed with status code:', response.status_code)\n",
    "        return -1"
   ]
  },
  {
   "cell_type": "code",
   "execution_count": 25,
   "metadata": {},
   "outputs": [],
   "source": [
    "def extract_info(dump):\n",
    "    song_info = {}\n",
    "    # pp.pprint(dump)\n",
    "    song_info[\"artists\"] = \", \".join([x['name'] for x in dump['artists']])\n",
    "    song_info[\"song_id\"] = dump['id']\n",
    "    song_info[\"popularity\"] = dump['popularity']\n",
    "    song_info[\"spotify_link\"] = dump['external_urls']['spotify']\n",
    "    \n",
    "    return song_info"
   ]
  },
  {
   "cell_type": "code",
   "execution_count": 28,
   "metadata": {},
   "outputs": [],
   "source": [
    "song_data = {}\n",
    "\n",
    "for idx, song_name in enumerate(song_list):\n",
    "    dump = return_song_dump(song_name)\n",
    "    song_data[idx] = extract_info(dump[0])\n",
    "    song_data[idx]['name'] = song_name"
   ]
  },
  {
   "cell_type": "code",
   "execution_count": 37,
   "metadata": {},
   "outputs": [],
   "source": [
    "def extract_song_features(song_id):\n",
    "    params = {'id': song_id}\n",
    "    response = requests.get('http://localhost:3000/features', params=params)\n",
    "\n",
    "    if response.status_code == 200:\n",
    "        data = response.json()\n",
    "        return data\n",
    "    else:\n",
    "        print('Request failed with status code:', response.status_code)\n",
    "        return -1"
   ]
  },
  {
   "cell_type": "code",
   "execution_count": 38,
   "metadata": {},
   "outputs": [
    {
     "data": {
      "text/plain": [
       "{'artists': 'PinkPantheress, Ice Spice',\n",
       " 'song_id': '6AQbmUe0Qwf5PZnt4HmTXv',\n",
       " 'popularity': 98,\n",
       " 'spotify_link': 'https://open.spotify.com/track/6AQbmUe0Qwf5PZnt4HmTXv',\n",
       " 'name': \"Boy's a Liar\"}"
      ]
     },
     "execution_count": 38,
     "metadata": {},
     "output_type": "execute_result"
    }
   ],
   "source": [
    "song_data[0]"
   ]
  },
  {
   "cell_type": "code",
   "execution_count": 42,
   "metadata": {},
   "outputs": [],
   "source": [
    "for idx, song in song_data.items():\n",
    "    features = extract_song_features(song['song_id'])\n",
    "    for k, v in features.items():\n",
    "        if k not in song:\n",
    "            song[k] = v"
   ]
  },
  {
   "cell_type": "code",
   "execution_count": 43,
   "metadata": {},
   "outputs": [
    {
     "data": {
      "text/plain": [
       "{'artists': 'PinkPantheress, Ice Spice',\n",
       " 'song_id': '6AQbmUe0Qwf5PZnt4HmTXv',\n",
       " 'popularity': 98,\n",
       " 'spotify_link': 'https://open.spotify.com/track/6AQbmUe0Qwf5PZnt4HmTXv',\n",
       " 'name': \"Boy's a Liar\",\n",
       " 'danceability': 0.696,\n",
       " 'energy': 0.809,\n",
       " 'key': 5,\n",
       " 'loudness': -8.254,\n",
       " 'mode': 1,\n",
       " 'speechiness': 0.05,\n",
       " 'acousticness': 0.252,\n",
       " 'instrumentalness': 0.000128,\n",
       " 'liveness': 0.248,\n",
       " 'valence': 0.857,\n",
       " 'tempo': 132.962,\n",
       " 'type': 'audio_features',\n",
       " 'id': '6AQbmUe0Qwf5PZnt4HmTXv',\n",
       " 'uri': 'spotify:track:6AQbmUe0Qwf5PZnt4HmTXv',\n",
       " 'track_href': 'https://api.spotify.com/v1/tracks/6AQbmUe0Qwf5PZnt4HmTXv',\n",
       " 'analysis_url': 'https://api.spotify.com/v1/audio-analysis/6AQbmUe0Qwf5PZnt4HmTXv',\n",
       " 'duration_ms': 131013,\n",
       " 'time_signature': 4}"
      ]
     },
     "execution_count": 43,
     "metadata": {},
     "output_type": "execute_result"
    }
   ],
   "source": [
    "song_data[0]"
   ]
  },
  {
   "cell_type": "code",
   "execution_count": 44,
   "metadata": {},
   "outputs": [],
   "source": [
    "import json"
   ]
  },
  {
   "cell_type": "code",
   "execution_count": 45,
   "metadata": {},
   "outputs": [],
   "source": [
    "with open('data/dance_data.json', 'w') as f:\n",
    "    json.dump(song_data, f, indent=2)"
   ]
  }
 ],
 "metadata": {
  "kernelspec": {
   "display_name": "base",
   "language": "python",
   "name": "python3"
  },
  "language_info": {
   "codemirror_mode": {
    "name": "ipython",
    "version": 3
   },
   "file_extension": ".py",
   "mimetype": "text/x-python",
   "name": "python",
   "nbconvert_exporter": "python",
   "pygments_lexer": "ipython3",
   "version": "3.9.12"
  },
  "orig_nbformat": 4
 },
 "nbformat": 4,
 "nbformat_minor": 2
}
