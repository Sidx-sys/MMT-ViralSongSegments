{
 "cells": [
  {
   "cell_type": "code",
   "execution_count": 38,
   "metadata": {},
   "outputs": [],
   "source": [
    "import requests\n",
    "import pprint\n",
    "import json"
   ]
  },
  {
   "cell_type": "code",
   "execution_count": 2,
   "metadata": {},
   "outputs": [],
   "source": [
    "pp = pprint.PrettyPrinter(indent=2)"
   ]
  },
  {
   "cell_type": "code",
   "execution_count": 34,
   "metadata": {},
   "outputs": [
    {
     "data": {
      "text/plain": [
       "['track:Alright artist:Kendrick Lamar',\n",
       " 'track:',\n",
       " 'track:',\n",
       " 'track:',\n",
       " 'track:',\n",
       " 'track:',\n",
       " 'track:',\n",
       " 'track:',\n",
       " 'track:',\n",
       " 'track:']"
      ]
     },
     "execution_count": 34,
     "metadata": {},
     "output_type": "execute_result"
    }
   ],
   "source": [
    "song_list = None\n",
    "with open(\"data/hardstyle_songs.txt\") as f:\n",
    "    song_list = [x.rstrip() for x in f.readlines()]\n",
    "song_list[:10]"
   ]
  },
  {
   "cell_type": "code",
   "execution_count": 39,
   "metadata": {},
   "outputs": [],
   "source": [
    "# JUST FOR HARDSTYLE\n",
    "with open(\"data/hardstylealbum.json\") as f:\n",
    "    song_list_raw = json.load(f)\n",
    "song_list = song_list_raw['items'] "
   ]
  },
  {
   "cell_type": "code",
   "execution_count": 40,
   "metadata": {},
   "outputs": [],
   "source": [
    "def return_song_dump(song_name):\n",
    "    data = {'name': song_name}\n",
    "    response = requests.post('http://localhost:3000/search', json=data)\n",
    "\n",
    "    if response.status_code == 200:\n",
    "        data = response.json()\n",
    "        return data\n",
    "    else:\n",
    "        print('Request failed with status code:', response.status_code)\n",
    "        return -1"
   ]
  },
  {
   "cell_type": "code",
   "execution_count": 41,
   "metadata": {},
   "outputs": [],
   "source": [
    "def extract_info(dump):\n",
    "    song_info = {}\n",
    "    # pp.pprint(dump)\n",
    "    song_info[\"artists\"] = \", \".join([x['name'] for x in dump['artists']])\n",
    "    song_info[\"song_id\"] = dump['id']\n",
    "    song_info[\"popularity\"] = dump['popularity']\n",
    "    song_info[\"spotify_link\"] = dump['external_urls']['spotify']\n",
    "    song_info[\"release_date\"] = dump['album']['release_date']\n",
    "    # song_info[\"genres\"] = dump['album']['genres']\n",
    "\n",
    "    \n",
    "    return song_info"
   ]
  },
  {
   "cell_type": "code",
   "execution_count": 49,
   "metadata": {},
   "outputs": [],
   "source": [
    "def extract_info_hardstyle(dump):\n",
    "    song_info = {}\n",
    "    # pp.pprint(dump)\n",
    "    song_info[\"artists\"] = \", \".join([x['name'] for x in dump['artists']])\n",
    "    song_info[\"song_id\"] = dump['id']\n",
    "    song_info[\"name\"] = dump['name']\n",
    "    # song_info[\"popularity\"] = dump['popularity']\n",
    "    # song_info[\"spotify_link\"] = dump['external_urls']['spotify']\n",
    "    # song_info[\"release_date\"] = dump['album']['release_date']\n",
    "    # song_info[\"genres\"] = dump['album']['genres']\n",
    "\n",
    "    \n",
    "    return song_info"
   ]
  },
  {
   "cell_type": "code",
   "execution_count": 50,
   "metadata": {},
   "outputs": [
    {
     "name": "stdout",
     "output_type": "stream",
     "text": [
      "0\n"
     ]
    }
   ],
   "source": [
    "song_data = {}\n",
    "ctr = 0\n",
    "for idx, dump in enumerate(song_list):\n",
    "    # dump = return_song_dump(song_name)\n",
    "    try: \n",
    "        song_data[idx] = extract_info_hardstyle(dump)\n",
    "    except IndexError:\n",
    "        ctr += 1\n",
    "        continue\n",
    "\n",
    "print(ctr)"
   ]
  },
  {
   "cell_type": "code",
   "execution_count": 51,
   "metadata": {},
   "outputs": [],
   "source": [
    "def extract_song_features(song_id):\n",
    "    params = {'id': song_id}\n",
    "    response = requests.get('http://localhost:3000/features', params=params)\n",
    "\n",
    "    if response.status_code == 200:\n",
    "        data = response.json()\n",
    "        return data\n",
    "    else:\n",
    "        print('Request failed with status code:', response.status_code)\n",
    "        return -1"
   ]
  },
  {
   "cell_type": "code",
   "execution_count": 52,
   "metadata": {},
   "outputs": [
    {
     "data": {
      "text/plain": [
       "{'artists': 'Mapo Mester',\n",
       " 'song_id': '02Hp7rsuCsGW0GmB4NZKLC',\n",
       " 'name': 'Hey - Hard Mix'}"
      ]
     },
     "execution_count": 52,
     "metadata": {},
     "output_type": "execute_result"
    }
   ],
   "source": [
    "song_data[0]"
   ]
  },
  {
   "attachments": {},
   "cell_type": "markdown",
   "metadata": {},
   "source": [
    "## plotting here\n"
   ]
  },
  {
   "cell_type": "code",
   "execution_count": 175,
   "metadata": {},
   "outputs": [
    {
     "name": "stdout",
     "output_type": "stream",
     "text": [
      "{'danceability': 0.669, 'energy': 0.415, 'key': 0, 'loudness': -11.329, 'mode': 1, 'speechiness': 0.0485, 'acousticness': 0.645, 'instrumentalness': 0.745, 'liveness': 0.142, 'valence': 0.328, 'tempo': 90.353, 'type': 'audio_features', 'id': '42dXKrKWJwYf7tnRbdsrfo', 'uri': 'spotify:track:42dXKrKWJwYf7tnRbdsrfo', 'track_href': 'https://api.spotify.com/v1/tracks/42dXKrKWJwYf7tnRbdsrfo', 'analysis_url': 'https://api.spotify.com/v1/audio-analysis/42dXKrKWJwYf7tnRbdsrfo', 'duration_ms': 100000, 'time_signature': 4}\n",
      "aa\n",
      "aa\n",
      "aa\n",
      "aa\n",
      "aa\n",
      "aa\n",
      "aa\n",
      "aa\n",
      "aa\n",
      "aa\n",
      "aa\n",
      "aa\n",
      "aa\n",
      "aa\n",
      "aa\n",
      "aa\n",
      "aa\n",
      "aa\n",
      "{'danceability': 0.517, 'energy': 0.647, 'key': 5, 'loudness': -8.076, 'mode': 0, 'speechiness': 0.0404, 'acousticness': 0.694, 'instrumentalness': 0.000112, 'liveness': 0.21, 'valence': 0.95, 'tempo': 94.734, 'type': 'audio_features', 'id': '6eNHrgrgbMFQpQ5qFEPL6h', 'uri': 'spotify:track:6eNHrgrgbMFQpQ5qFEPL6h', 'track_href': 'https://api.spotify.com/v1/tracks/6eNHrgrgbMFQpQ5qFEPL6h', 'analysis_url': 'https://api.spotify.com/v1/audio-analysis/6eNHrgrgbMFQpQ5qFEPL6h', 'duration_ms': 164200, 'time_signature': 4}\n",
      "aa\n",
      "aa\n",
      "aa\n",
      "aa\n",
      "aa\n",
      "aa\n",
      "aa\n",
      "aa\n",
      "aa\n",
      "aa\n",
      "aa\n",
      "aa\n",
      "aa\n",
      "aa\n",
      "aa\n",
      "aa\n",
      "aa\n",
      "aa\n",
      "{'danceability': 0.845, 'energy': 0.49, 'key': 5, 'loudness': -8.002, 'mode': 1, 'speechiness': 0.0872, 'acousticness': 0.232, 'instrumentalness': 0.809, 'liveness': 0.0792, 'valence': 0.801, 'tempo': 92.226, 'type': 'audio_features', 'id': '6V2heR0G8iTDd0fGImgspE', 'uri': 'spotify:track:6V2heR0G8iTDd0fGImgspE', 'track_href': 'https://api.spotify.com/v1/tracks/6V2heR0G8iTDd0fGImgspE', 'analysis_url': 'https://api.spotify.com/v1/audio-analysis/6V2heR0G8iTDd0fGImgspE', 'duration_ms': 180160, 'time_signature': 4}\n",
      "aa\n",
      "aa\n",
      "aa\n",
      "aa\n",
      "aa\n",
      "aa\n",
      "aa\n",
      "aa\n",
      "aa\n",
      "aa\n",
      "aa\n",
      "aa\n",
      "aa\n",
      "aa\n",
      "aa\n",
      "aa\n",
      "aa\n",
      "aa\n",
      "{'danceability': 0.654, 'energy': 0.758, 'key': 3, 'loudness': -6.117, 'mode': 0, 'speechiness': 0.124, 'acousticness': 0.0328, 'instrumentalness': 0.00052, 'liveness': 0.147, 'valence': 0.648, 'tempo': 153.988, 'type': 'audio_features', 'id': '6pHo3k15lbYuljy5GyZsV2', 'uri': 'spotify:track:6pHo3k15lbYuljy5GyZsV2', 'track_href': 'https://api.spotify.com/v1/tracks/6pHo3k15lbYuljy5GyZsV2', 'analysis_url': 'https://api.spotify.com/v1/audio-analysis/6pHo3k15lbYuljy5GyZsV2', 'duration_ms': 252053, 'time_signature': 4}\n",
      "aa\n",
      "aa\n",
      "aa\n",
      "aa\n",
      "aa\n",
      "aa\n",
      "aa\n",
      "aa\n",
      "aa\n",
      "aa\n",
      "aa\n",
      "aa\n",
      "aa\n",
      "aa\n",
      "aa\n",
      "aa\n",
      "aa\n",
      "aa\n",
      "{'danceability': 0.685, 'energy': 0.662, 'key': 5, 'loudness': -7.733, 'mode': 0, 'speechiness': 0.283, 'acousticness': 0.448, 'instrumentalness': 0.0433, 'liveness': 0.412, 'valence': 0.735, 'tempo': 147.177, 'type': 'audio_features', 'id': '1rOKAsJZJDIikOKDeUfPRV', 'uri': 'spotify:track:1rOKAsJZJDIikOKDeUfPRV', 'track_href': 'https://api.spotify.com/v1/tracks/1rOKAsJZJDIikOKDeUfPRV', 'analysis_url': 'https://api.spotify.com/v1/audio-analysis/1rOKAsJZJDIikOKDeUfPRV', 'duration_ms': 109587, 'time_signature': 4}\n",
      "aa\n",
      "aa\n",
      "aa\n",
      "aa\n",
      "aa\n",
      "aa\n",
      "aa\n",
      "aa\n",
      "aa\n",
      "aa\n",
      "aa\n",
      "aa\n",
      "aa\n",
      "aa\n",
      "aa\n",
      "aa\n",
      "aa\n",
      "aa\n",
      "{'danceability': 0.519, 'energy': 0.761, 'key': 9, 'loudness': -4.384, 'mode': 1, 'speechiness': 0.0339, 'acousticness': 0.18, 'instrumentalness': 0.956, 'liveness': 0.154, 'valence': 0.288, 'tempo': 105.013, 'type': 'audio_features', 'id': '7xWpIyPOtKvQx5yhEBKqzn', 'uri': 'spotify:track:7xWpIyPOtKvQx5yhEBKqzn', 'track_href': 'https://api.spotify.com/v1/tracks/7xWpIyPOtKvQx5yhEBKqzn', 'analysis_url': 'https://api.spotify.com/v1/audio-analysis/7xWpIyPOtKvQx5yhEBKqzn', 'duration_ms': 260571, 'time_signature': 4}\n",
      "aa\n",
      "aa\n",
      "aa\n",
      "aa\n",
      "aa\n",
      "aa\n",
      "aa\n",
      "aa\n",
      "aa\n",
      "aa\n",
      "aa\n",
      "aa\n",
      "aa\n",
      "aa\n",
      "aa\n",
      "aa\n",
      "aa\n",
      "aa\n",
      "{'danceability': 0.728, 'energy': 0.457, 'key': 7, 'loudness': -9.868, 'mode': 1, 'speechiness': 0.0411, 'acousticness': 0.586, 'instrumentalness': 0.17, 'liveness': 0.124, 'valence': 0.339, 'tempo': 110.064, 'type': 'audio_features', 'id': '0FUz6NRHygWniiFlZX221y', 'uri': 'spotify:track:0FUz6NRHygWniiFlZX221y', 'track_href': 'https://api.spotify.com/v1/tracks/0FUz6NRHygWniiFlZX221y', 'analysis_url': 'https://api.spotify.com/v1/audio-analysis/0FUz6NRHygWniiFlZX221y', 'duration_ms': 146221, 'time_signature': 4}\n",
      "aa\n",
      "aa\n",
      "aa\n",
      "aa\n",
      "aa\n",
      "aa\n",
      "aa\n",
      "aa\n",
      "aa\n",
      "aa\n",
      "aa\n",
      "aa\n",
      "aa\n",
      "aa\n",
      "aa\n",
      "aa\n",
      "aa\n",
      "aa\n",
      "{'danceability': 0.833, 'energy': 0.511, 'key': 7, 'loudness': -8.546, 'mode': 0, 'speechiness': 0.0798, 'acousticness': 0.616, 'instrumentalness': 0.531, 'liveness': 0.241, 'valence': 0.265, 'tempo': 104.908, 'type': 'audio_features', 'id': '5CC9SwYDEdurKykdkRaMTM', 'uri': 'spotify:track:5CC9SwYDEdurKykdkRaMTM', 'track_href': 'https://api.spotify.com/v1/tracks/5CC9SwYDEdurKykdkRaMTM', 'analysis_url': 'https://api.spotify.com/v1/audio-analysis/5CC9SwYDEdurKykdkRaMTM', 'duration_ms': 169143, 'time_signature': 4}\n",
      "aa\n",
      "aa\n",
      "aa\n",
      "aa\n",
      "aa\n",
      "aa\n",
      "aa\n",
      "aa\n",
      "aa\n",
      "aa\n",
      "aa\n",
      "aa\n",
      "aa\n",
      "aa\n",
      "aa\n",
      "aa\n",
      "aa\n",
      "aa\n",
      "{'danceability': 0.634, 'energy': 0.793, 'key': 7, 'loudness': -5.109, 'mode': 1, 'speechiness': 0.0298, 'acousticness': 0.164, 'instrumentalness': 1.44e-06, 'liveness': 0.147, 'valence': 0.643, 'tempo': 92.983, 'type': 'audio_features', 'id': '4xRQ4sxf3tcD5meRKl0XTV', 'uri': 'spotify:track:4xRQ4sxf3tcD5meRKl0XTV', 'track_href': 'https://api.spotify.com/v1/tracks/4xRQ4sxf3tcD5meRKl0XTV', 'analysis_url': 'https://api.spotify.com/v1/audio-analysis/4xRQ4sxf3tcD5meRKl0XTV', 'duration_ms': 181077, 'time_signature': 4}\n",
      "aa\n",
      "aa\n",
      "aa\n",
      "aa\n",
      "aa\n",
      "aa\n",
      "aa\n",
      "aa\n",
      "aa\n",
      "aa\n",
      "aa\n",
      "aa\n",
      "aa\n",
      "aa\n",
      "aa\n",
      "aa\n",
      "aa\n",
      "aa\n",
      "{'danceability': 0.703, 'energy': 0.825, 'key': 5, 'loudness': -8.73, 'mode': 0, 'speechiness': 0.0333, 'acousticness': 0.0276, 'instrumentalness': 0.00207, 'liveness': 0.147, 'valence': 0.637, 'tempo': 120.992, 'type': 'audio_features', 'id': '5HVFqmVCIWsA0LRDvpiQui', 'uri': 'spotify:track:5HVFqmVCIWsA0LRDvpiQui', 'track_href': 'https://api.spotify.com/v1/tracks/5HVFqmVCIWsA0LRDvpiQui', 'analysis_url': 'https://api.spotify.com/v1/audio-analysis/5HVFqmVCIWsA0LRDvpiQui', 'duration_ms': 170563, 'time_signature': 4}\n",
      "aa\n",
      "aa\n",
      "aa\n",
      "aa\n",
      "aa\n",
      "aa\n",
      "aa\n",
      "aa\n",
      "aa\n",
      "aa\n",
      "aa\n",
      "aa\n",
      "aa\n",
      "aa\n",
      "aa\n",
      "aa\n",
      "aa\n",
      "aa\n",
      "{'danceability': 0.558, 'energy': 0.796, 'key': 8, 'loudness': -5.885, 'mode': 1, 'speechiness': 0.0291, 'acousticness': 0.295, 'instrumentalness': 7.93e-05, 'liveness': 0.115, 'valence': 0.474, 'tempo': 104.983, 'type': 'audio_features', 'id': '2BjltN5yRaIjqFRY87U2ZV', 'uri': 'spotify:track:2BjltN5yRaIjqFRY87U2ZV', 'track_href': 'https://api.spotify.com/v1/tracks/2BjltN5yRaIjqFRY87U2ZV', 'analysis_url': 'https://api.spotify.com/v1/audio-analysis/2BjltN5yRaIjqFRY87U2ZV', 'duration_ms': 201143, 'time_signature': 4}\n",
      "aa\n",
      "aa\n",
      "aa\n",
      "aa\n",
      "aa\n",
      "aa\n",
      "aa\n",
      "aa\n",
      "aa\n",
      "aa\n",
      "aa\n",
      "aa\n",
      "aa\n",
      "aa\n",
      "aa\n",
      "aa\n",
      "aa\n",
      "aa\n",
      "{'danceability': 0.447, 'energy': 0.204, 'key': 1, 'loudness': -11.748, 'mode': 0, 'speechiness': 0.0266, 'acousticness': 0.988, 'instrumentalness': 0.799, 'liveness': 0.125, 'valence': 0.331, 'tempo': 83.969, 'type': 'audio_features', 'id': '5Cfz0DCrcFpISyvDHBWy9f', 'uri': 'spotify:track:5Cfz0DCrcFpISyvDHBWy9f', 'track_href': 'https://api.spotify.com/v1/tracks/5Cfz0DCrcFpISyvDHBWy9f', 'analysis_url': 'https://api.spotify.com/v1/audio-analysis/5Cfz0DCrcFpISyvDHBWy9f', 'duration_ms': 149200, 'time_signature': 1}\n",
      "aa\n",
      "aa\n",
      "aa\n",
      "aa\n",
      "aa\n",
      "aa\n",
      "aa\n",
      "aa\n",
      "aa\n",
      "aa\n",
      "aa\n",
      "aa\n",
      "aa\n",
      "aa\n",
      "aa\n",
      "aa\n",
      "aa\n",
      "aa\n",
      "{'danceability': 0.863, 'energy': 0.54, 'key': 3, 'loudness': -8.261, 'mode': 0, 'speechiness': 0.243, 'acousticness': 0.302, 'instrumentalness': 0.9, 'liveness': 0.126, 'valence': 0.268, 'tempo': 118.045, 'type': 'audio_features', 'id': '18k1V9bl80jI5KUQ4Ieb5U', 'uri': 'spotify:track:18k1V9bl80jI5KUQ4Ieb5U', 'track_href': 'https://api.spotify.com/v1/tracks/18k1V9bl80jI5KUQ4Ieb5U', 'analysis_url': 'https://api.spotify.com/v1/audio-analysis/18k1V9bl80jI5KUQ4Ieb5U', 'duration_ms': 193754, 'time_signature': 4}\n",
      "aa\n",
      "aa\n",
      "aa\n",
      "aa\n",
      "aa\n",
      "aa\n",
      "aa\n",
      "aa\n",
      "aa\n",
      "aa\n",
      "aa\n",
      "aa\n",
      "aa\n",
      "aa\n",
      "aa\n",
      "aa\n",
      "aa\n",
      "aa\n",
      "{'danceability': 0.632, 'energy': 0.816, 'key': 0, 'loudness': -5.514, 'mode': 1, 'speechiness': 0.0293, 'acousticness': 0.0202, 'instrumentalness': 0.00032, 'liveness': 0.177, 'valence': 0.462, 'tempo': 103.003, 'type': 'audio_features', 'id': '0zA1FAaqceF7DGhBh4GCZ8', 'uri': 'spotify:track:0zA1FAaqceF7DGhBh4GCZ8', 'track_href': 'https://api.spotify.com/v1/tracks/0zA1FAaqceF7DGhBh4GCZ8', 'analysis_url': 'https://api.spotify.com/v1/audio-analysis/0zA1FAaqceF7DGhBh4GCZ8', 'duration_ms': 204009, 'time_signature': 4}\n",
      "aa\n",
      "aa\n",
      "aa\n",
      "aa\n",
      "aa\n",
      "aa\n",
      "aa\n",
      "aa\n",
      "aa\n",
      "aa\n",
      "aa\n",
      "aa\n",
      "aa\n",
      "aa\n",
      "aa\n",
      "aa\n",
      "aa\n",
      "aa\n",
      "{'danceability': 0.76, 'energy': 0.865, 'key': 7, 'loudness': -6.362, 'mode': 1, 'speechiness': 0.0491, 'acousticness': 0.000589, 'instrumentalness': 0.0127, 'liveness': 0.226, 'valence': 0.227, 'tempo': 124.999, 'type': 'audio_features', 'id': '7vgrEvwPIEDNN6TP2XZHer', 'uri': 'spotify:track:7vgrEvwPIEDNN6TP2XZHer', 'track_href': 'https://api.spotify.com/v1/tracks/7vgrEvwPIEDNN6TP2XZHer', 'analysis_url': 'https://api.spotify.com/v1/audio-analysis/7vgrEvwPIEDNN6TP2XZHer', 'duration_ms': 412000, 'time_signature': 4}\n",
      "aa\n",
      "aa\n",
      "aa\n",
      "aa\n",
      "aa\n",
      "aa\n",
      "aa\n",
      "aa\n",
      "aa\n",
      "aa\n",
      "aa\n",
      "aa\n",
      "aa\n",
      "aa\n",
      "aa\n",
      "aa\n",
      "aa\n",
      "aa\n"
     ]
    }
   ],
   "source": [
    "# keys = []\n",
    "acousticness = []\n",
    "danceability = []\n",
    "energy = []\n",
    "instrumentalness = []\n",
    "liveness = []\n",
    "loudness = []\n",
    "speechiness = []\n",
    "tempo = []\n",
    "valence = []\n",
    "\n",
    "for idx, song in song_data.items():\n",
    "    features = extract_song_features(song['song_id'])\n",
    "    print(features)\n",
    "    \n",
    "    if(features == -1):\n",
    "        print(\"error\")\n",
    "        continue\n",
    "    acousticness.append(features['acousticness'])\n",
    "    danceability.append(features['danceability'])\n",
    "    energy.append(features['energy'])\n",
    "    instrumentalness.append(features['instrumentalness'])\n",
    "    liveness.append(features['liveness'])\n",
    "    loudness.append(features['loudness'])\n",
    "    speechiness.append(features['speechiness'])\n",
    "    tempo.append(features['tempo'])\n",
    "    valence.append(features['valence'])\n",
    "\n",
    "    try:\n",
    "        for k, v in features.items():\n",
    "            if k not in song:\n",
    "                song[k] = v\n",
    "                print(\"aa\")\n",
    "    except AttributeError:\n",
    "        print(song)"
   ]
  },
  {
   "cell_type": "code",
   "execution_count": 53,
   "metadata": {},
   "outputs": [],
   "source": [
    "for idx, song in song_data.items():\n",
    "    features = extract_song_features(song['song_id'])\n",
    "    try:\n",
    "        for k, v in features.items():\n",
    "            if k not in song:\n",
    "                song[k] = v\n",
    "    except AttributeError:\n",
    "        print(song)"
   ]
  },
  {
   "cell_type": "code",
   "execution_count": 54,
   "metadata": {},
   "outputs": [
    {
     "data": {
      "text/plain": [
       "{'artists': 'Mapo Mester',\n",
       " 'song_id': '02Hp7rsuCsGW0GmB4NZKLC',\n",
       " 'name': 'Hey - Hard Mix',\n",
       " 'danceability': 0.792,\n",
       " 'energy': 0.865,\n",
       " 'key': 11,\n",
       " 'loudness': -5.81,\n",
       " 'mode': 0,\n",
       " 'speechiness': 0.0694,\n",
       " 'acousticness': 0.0131,\n",
       " 'instrumentalness': 0.764,\n",
       " 'liveness': 0.0773,\n",
       " 'valence': 0.292,\n",
       " 'tempo': 145.012,\n",
       " 'type': 'audio_features',\n",
       " 'id': '02Hp7rsuCsGW0GmB4NZKLC',\n",
       " 'uri': 'spotify:track:02Hp7rsuCsGW0GmB4NZKLC',\n",
       " 'track_href': 'https://api.spotify.com/v1/tracks/02Hp7rsuCsGW0GmB4NZKLC',\n",
       " 'analysis_url': 'https://api.spotify.com/v1/audio-analysis/02Hp7rsuCsGW0GmB4NZKLC',\n",
       " 'duration_ms': 291310,\n",
       " 'time_signature': 4}"
      ]
     },
     "execution_count": 54,
     "metadata": {},
     "output_type": "execute_result"
    }
   ],
   "source": [
    "song_data[0]"
   ]
  },
  {
   "cell_type": "code",
   "execution_count": 55,
   "metadata": {},
   "outputs": [],
   "source": [
    "import json"
   ]
  },
  {
   "cell_type": "code",
   "execution_count": 12,
   "metadata": {},
   "outputs": [],
   "source": [
    "with open('data/cooking_data.json', 'w') as f:\n",
    "    json.dump(song_data, f, indent=2)"
   ]
  },
  {
   "cell_type": "code",
   "execution_count": 79,
   "metadata": {},
   "outputs": [],
   "source": [
    "with open('data/workout_data.json') as f:\n",
    "    songs_data = json.load(f)"
   ]
  },
  {
   "cell_type": "code",
   "execution_count": 56,
   "metadata": {},
   "outputs": [],
   "source": [
    "key_scale = [\"C\", \"C#\", \"D\", \"D#\", \"E\", \"F\", \"F#\", \"G\", \"G#\", \"A\", \"A#\", \"B\"]"
   ]
  },
  {
   "cell_type": "code",
   "execution_count": 57,
   "metadata": {},
   "outputs": [],
   "source": [
    "def process_song_data(data):\n",
    "    data['mode'] = \"Major\" if data['mode'] == 1 else \"Minor\"\n",
    "    data['key'] = key_scale[int(data['key'])]\n",
    "    data['duration'] = data['duration_ms']/1000/60\n",
    "    data.pop('duration_ms')"
   ]
  },
  {
   "cell_type": "code",
   "execution_count": 58,
   "metadata": {},
   "outputs": [],
   "source": [
    "for key, data in song_data.items():\n",
    "    try:\n",
    "        process_song_data(data)\n",
    "    except KeyError:\n",
    "        print(data)"
   ]
  },
  {
   "cell_type": "code",
   "execution_count": 59,
   "metadata": {},
   "outputs": [],
   "source": [
    "with open('data/hardstyle_data_processed.json', 'w') as f:\n",
    "    json.dump(song_data, f, indent=2)"
   ]
  },
  {
   "attachments": {},
   "cell_type": "markdown",
   "metadata": {},
   "source": [
    "### Hardstyle"
   ]
  },
  {
   "cell_type": "code",
   "execution_count": 96,
   "metadata": {},
   "outputs": [
    {
     "data": {
      "text/plain": [
       "{'artists': [{'external_urls': {'spotify': 'https://open.spotify.com/artist/4qxavzpYzPfrDLShcWaPb6'},\n",
       "   'href': 'https://api.spotify.com/v1/artists/4qxavzpYzPfrDLShcWaPb6',\n",
       "   'id': '4qxavzpYzPfrDLShcWaPb6',\n",
       "   'name': 'Mapo Mester',\n",
       "   'type': 'artist',\n",
       "   'uri': 'spotify:artist:4qxavzpYzPfrDLShcWaPb6'}],\n",
       " 'available_markets': [],\n",
       " 'disc_number': 1,\n",
       " 'duration_ms': 291310,\n",
       " 'explicit': False,\n",
       " 'external_urls': {'spotify': 'https://open.spotify.com/track/02Hp7rsuCsGW0GmB4NZKLC'},\n",
       " 'href': 'https://api.spotify.com/v1/tracks/02Hp7rsuCsGW0GmB4NZKLC',\n",
       " 'id': '02Hp7rsuCsGW0GmB4NZKLC',\n",
       " 'is_local': False,\n",
       " 'name': 'Hey - Hard Mix',\n",
       " 'preview_url': None,\n",
       " 'track_number': 1,\n",
       " 'type': 'track',\n",
       " 'uri': 'spotify:track:02Hp7rsuCsGW0GmB4NZKLC'}"
      ]
     },
     "execution_count": 96,
     "metadata": {},
     "output_type": "execute_result"
    }
   ],
   "source": [
    "with open('hardstylealbum.json') as f:\n",
    "    hard_songs_data = json.load(f)\n",
    "hard_songs_data[\"items\"][0]"
   ]
  },
  {
   "cell_type": "code",
   "execution_count": 99,
   "metadata": {},
   "outputs": [
    {
     "data": {
      "text/plain": [
       "'[02Hp7rsuCsGW0GmB4NZKLC,54ZD1YGQPXvbwAHcMthlPC,4IWMv2R6UhOLPmttRFH71x,7BzcvODbJ09MUprieeyDOg,53yYY7jvIQCkPOeVASIasv,3QWyB8KKVNGdAHXU3u4puz,6W43pbN6K4bAHfblQL3JNU,2U0hU8k7Yr1JouQQ1STkVD,3dtmMWgMfNyODj9bSyAeYU,4iFlL6W7V0Zfp9XcvcUZYJ,1v15i2awl1SDXR6VUj7Ugv,6Xze6OGwjBmDHfIU4DPFGg,5LUAtU9YANXGFPV2jDPQ1B,3L48ZYksYICY8nCV3ExfCf,5iFjLdtGko4E13lepPdxPq,16PhDlskQOvLh0Fs8P866y,1anshtszGkpGu2ZfvTXJmj,5hw5nyWTFgTTxRAfuDZMnO,6RXu3gFUdLQUxExKlsgrQf,3xjPWrRODVfrjmOo4hGggS]'"
      ]
     },
     "execution_count": 99,
     "metadata": {},
     "output_type": "execute_result"
    }
   ],
   "source": [
    "ids = \"[\"\n",
    "for song in hard_songs_data[\"items\"]:\n",
    "    ids += song[\"id\"] + \",\"\n",
    "ids = ids[:-1] + \"]\"\n",
    "ids"
   ]
  },
  {
   "attachments": {},
   "cell_type": "markdown",
   "metadata": {},
   "source": [
    "## plots"
   ]
  },
  {
   "cell_type": "code",
   "execution_count": 110,
   "metadata": {},
   "outputs": [],
   "source": [
    "import matplotlib.pyplot as plt"
   ]
  },
  {
   "cell_type": "code",
   "execution_count": 135,
   "metadata": {},
   "outputs": [
    {
     "data": {
      "text/plain": [
       "[0.252,\n",
       " 0.00614,\n",
       " 0.321,\n",
       " 0.0252,\n",
       " 0.299,\n",
       " 0.0855,\n",
       " 0.264,\n",
       " 0.0168,\n",
       " 0.00456,\n",
       " 0.945,\n",
       " 0.25,\n",
       " 0.304,\n",
       " 0.0119,\n",
       " 0.0476,\n",
       " 0.422,\n",
       " 0.0995,\n",
       " 0.0755,\n",
       " 0.284,\n",
       " 0.797,\n",
       " 0.692,\n",
       " 0.00146,\n",
       " 0.293,\n",
       " 0.0203,\n",
       " 0.458,\n",
       " 0.234,\n",
       " 0.0158,\n",
       " 0.00843,\n",
       " 0.264,\n",
       " 0.334,\n",
       " 0.0104,\n",
       " 0.831,\n",
       " 0.145,\n",
       " 0.524,\n",
       " 0.0078,\n",
       " 0.305,\n",
       " 0.894,\n",
       " 0.0252,\n",
       " 0.39,\n",
       " 0.0533,\n",
       " 0.0177,\n",
       " 0.414,\n",
       " 0.152,\n",
       " 0.0388,\n",
       " 0.64,\n",
       " 0.692,\n",
       " 0.0392,\n",
       " 0.538,\n",
       " 0.0123,\n",
       " 0.0591,\n",
       " 0.0174,\n",
       " 0.0316,\n",
       " 0.315,\n",
       " 0.129,\n",
       " 0.345,\n",
       " 0.00261,\n",
       " 0.0465,\n",
       " 0.0142,\n",
       " 0.112,\n",
       " 0.255,\n",
       " 0.108,\n",
       " 0.0155,\n",
       " 0.177,\n",
       " 0.239,\n",
       " 0.731,\n",
       " 0.00275,\n",
       " 0.00567,\n",
       " 0.0384,\n",
       " 0.186,\n",
       " 0.104,\n",
       " 0.147,\n",
       " 0.00534,\n",
       " 0.568,\n",
       " 0.178,\n",
       " 0.281,\n",
       " 0.759,\n",
       " 0.295,\n",
       " 0.0202,\n",
       " 0.207,\n",
       " 0.119,\n",
       " 0.0576,\n",
       " 0.00281,\n",
       " 0.00252,\n",
       " 0.018,\n",
       " 0.33,\n",
       " 0.0791,\n",
       " 0.238,\n",
       " 0.657,\n",
       " 0.00142,\n",
       " 0.0128,\n",
       " 0.00472,\n",
       " 0.0801,\n",
       " 0.411,\n",
       " 0.167,\n",
       " 0.0216,\n",
       " 0.0371,\n",
       " 0.236,\n",
       " 0.0512,\n",
       " 0.546,\n",
       " 0.284,\n",
       " 0.099,\n",
       " 0.477,\n",
       " 0.751,\n",
       " 0.733,\n",
       " 0.0166,\n",
       " 0.0188,\n",
       " 0.2,\n",
       " 0.26,\n",
       " 0.314,\n",
       " 0.00608,\n",
       " 0.269,\n",
       " 0.556,\n",
       " 0.0165,\n",
       " 3.26e-05,\n",
       " 0.544,\n",
       " 0.0408,\n",
       " 0.013,\n",
       " 0.216,\n",
       " 0.469,\n",
       " 0.328,\n",
       " 0.177,\n",
       " 0.00872,\n",
       " 0.0764,\n",
       " 0.807,\n",
       " 0.0105,\n",
       " 0.0218,\n",
       " 0.0142,\n",
       " 0.133,\n",
       " 0.74,\n",
       " 0.285,\n",
       " 0.000677,\n",
       " 0.0933,\n",
       " 0.0204,\n",
       " 0.199,\n",
       " 0.196,\n",
       " 0.00196,\n",
       " 0.113,\n",
       " 0.309,\n",
       " 0.47,\n",
       " 0.72,\n",
       " 0.593,\n",
       " 0.265,\n",
       " 0.195,\n",
       " 0.00544,\n",
       " 0.00513,\n",
       " 0.096,\n",
       " 0.042,\n",
       " 0.0118,\n",
       " 0.0678,\n",
       " 0.291,\n",
       " 0.183,\n",
       " 0.0561,\n",
       " 0.302,\n",
       " 0.153,\n",
       " 0.183,\n",
       " 0.243,\n",
       " 0.353,\n",
       " 0.092,\n",
       " 0.00166,\n",
       " 0.102,\n",
       " 0.00215,\n",
       " 0.397,\n",
       " 0.113,\n",
       " 0.636,\n",
       " 0.145,\n",
       " 0.096,\n",
       " 0.0096,\n",
       " 0.113,\n",
       " 0.0429,\n",
       " 0.949,\n",
       " 0.0703,\n",
       " 0.0277,\n",
       " 0.737,\n",
       " 0.231,\n",
       " 0.188,\n",
       " 0.0208,\n",
       " 0.0771,\n",
       " 0.11,\n",
       " 0.47,\n",
       " 0.00672,\n",
       " 0.966,\n",
       " 0.0143,\n",
       " 0.412,\n",
       " 0.0374,\n",
       " 0.0197,\n",
       " 0.302,\n",
       " 0.328,\n",
       " 0.223,\n",
       " 0.00162,\n",
       " 0.026,\n",
       " 0.518,\n",
       " 0.318,\n",
       " 0.00146,\n",
       " 0.00522,\n",
       " 0.0119,\n",
       " 0.107,\n",
       " 0.563,\n",
       " 0.0431,\n",
       " 0.037,\n",
       " 0.0267,\n",
       " 0.00724,\n",
       " 0.833,\n",
       " 0.012,\n",
       " 0.017,\n",
       " 0.0039,\n",
       " 0.0133,\n",
       " 0.00684,\n",
       " 0.000545,\n",
       " 0.0435,\n",
       " 0.281,\n",
       " 0.053,\n",
       " 0.0284,\n",
       " 0.00564,\n",
       " 0.124,\n",
       " 8.04e-06,\n",
       " 0.124,\n",
       " 0.0584,\n",
       " 0.127,\n",
       " 0.114,\n",
       " 0.125,\n",
       " 0.000879,\n",
       " 0.0161,\n",
       " 0.295,\n",
       " 0.946,\n",
       " 0.00717,\n",
       " 0.805,\n",
       " 0.018,\n",
       " 0.0406,\n",
       " 0.0137,\n",
       " 0.0197,\n",
       " 0.114,\n",
       " 0.399,\n",
       " 0.00931,\n",
       " 0.0179,\n",
       " 0.825,\n",
       " 0.483,\n",
       " 0.00248,\n",
       " 0.0706,\n",
       " 0.523,\n",
       " 0.805,\n",
       " 0.24,\n",
       " 0.00813,\n",
       " 0.121,\n",
       " 0.00125,\n",
       " 0.000573,\n",
       " 0.114,\n",
       " 0.189,\n",
       " 0.0653,\n",
       " 0.969,\n",
       " 0.853,\n",
       " 0.0493,\n",
       " 0.207,\n",
       " 0.00198,\n",
       " 0.413,\n",
       " 0.172,\n",
       " 0.0893,\n",
       " 0.452,\n",
       " 0.415,\n",
       " 0.0927,\n",
       " 0.641,\n",
       " 0.988,\n",
       " 0.04,\n",
       " 0.328,\n",
       " 0.0893,\n",
       " 0.0669,\n",
       " 0.216,\n",
       " 0.331,\n",
       " 0.956,\n",
       " 0.0629,\n",
       " 0.216,\n",
       " 0.774,\n",
       " 0.833,\n",
       " 0.15,\n",
       " 0.00512,\n",
       " 0.00561]"
      ]
     },
     "execution_count": 135,
     "metadata": {},
     "output_type": "execute_result"
    }
   ],
   "source": [
    "acousticness"
   ]
  },
  {
   "cell_type": "code",
   "execution_count": 148,
   "metadata": {},
   "outputs": [
    {
     "data": {
      "image/png": "[encoded data removed]",
      "text/plain": [
       "<Figure size 600x400 with 1 Axes>"
      ]
     },
     "metadata": {},
     "output_type": "display_data"
    }
   ],
   "source": [
    "fig, ax = plt.subplots(figsize = (6,4))\n",
    "plt.hist(acousticness)\n",
    "ax.set_ylabel(\"Acousticness\")\n",
    "\n",
    "plt.show() "
   ]
  },
  {
   "cell_type": "code",
   "execution_count": 137,
   "metadata": {},
   "outputs": [
    {
     "data": {
      "image/png": "[encoded data removed]",
      "text/plain": [
       "<Figure size 640x480 with 1 Axes>"
      ]
     },
     "metadata": {},
     "output_type": "display_data"
    }
   ],
   "source": [
    "plt.hist(danceability)\n",
    "plt.show() "
   ]
  },
  {
   "cell_type": "code",
   "execution_count": 138,
   "metadata": {},
   "outputs": [
    {
     "data": {
      "image/png": "[encoded data removed]",
      "text/plain": [
       "<Figure size 640x480 with 1 Axes>"
      ]
     },
     "metadata": {},
     "output_type": "display_data"
    }
   ],
   "source": [
    "plt.hist(energy)\n",
    "plt.show() "
   ]
  },
  {
   "cell_type": "code",
   "execution_count": 139,
   "metadata": {},
   "outputs": [
    {
     "data": {
      "image/png": "[encoded data removed]",
      "text/plain": [
       "<Figure size 640x480 with 1 Axes>"
      ]
     },
     "metadata": {},
     "output_type": "display_data"
    }
   ],
   "source": [
    "plt.hist(instrumentalness)\n",
    "plt.show()"
   ]
  },
  {
   "cell_type": "code",
   "execution_count": 141,
   "metadata": {},
   "outputs": [
    {
     "data": {
      "image/png": "[encoded data removed]",
      "text/plain": [
       "<Figure size 640x480 with 1 Axes>"
      ]
     },
     "metadata": {},
     "output_type": "display_data"
    }
   ],
   "source": [
    "plt.hist(liveness)\n",
    "plt.show()"
   ]
  },
  {
   "cell_type": "code",
   "execution_count": 142,
   "metadata": {},
   "outputs": [
    {
     "data": {
      "image/png": "[encoded data removed]",
      "text/plain": [
       "<Figure size 640x480 with 1 Axes>"
      ]
     },
     "metadata": {},
     "output_type": "display_data"
    }
   ],
   "source": [
    "plt.hist(loudness)\n",
    "plt.show()"
   ]
  },
  {
   "cell_type": "code",
   "execution_count": 143,
   "metadata": {},
   "outputs": [
    {
     "data": {
      "image/png": "[encoded data removed]",
      "text/plain": [
       "<Figure size 640x480 with 1 Axes>"
      ]
     },
     "metadata": {},
     "output_type": "display_data"
    }
   ],
   "source": [
    "plt.hist(speechiness)\n",
    "plt.show()"
   ]
  },
  {
   "cell_type": "code",
   "execution_count": 144,
   "metadata": {},
   "outputs": [
    {
     "data": {
      "image/png": "[encoded data removed]",
      "text/plain": [
       "<Figure size 640x480 with 1 Axes>"
      ]
     },
     "metadata": {},
     "output_type": "display_data"
    }
   ],
   "source": [
    "plt.hist(tempo)\n",
    "plt.show()"
   ]
  },
  {
   "cell_type": "code",
   "execution_count": null,
   "metadata": {},
   "outputs": [],
   "source": []
  }
 ],
 "metadata": {
  "kernelspec": {
   "display_name": "base",
   "language": "python",
   "name": "python3"
  },
  "language_info": {
   "codemirror_mode": {
    "name": "ipython",
    "version": 3
   },
   "file_extension": ".py",
   "mimetype": "text/x-python",
   "name": "python",
   "nbconvert_exporter": "python",
   "pygments_lexer": "ipython3",
   "version": "3.9.16"
  },
  "orig_nbformat": 4
 },
 "nbformat": 4,
 "nbformat_minor": 2
}
